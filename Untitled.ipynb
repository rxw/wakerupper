{
 "cells": [
  {
   "cell_type": "code",
   "execution_count": 22,
   "metadata": {},
   "outputs": [],
   "source": [
    "import pychromecast\n",
    "import random\n",
    "import time\n",
    "from pychromecast.controllers.youtube import YouTubeController"
   ]
  },
  {
   "cell_type": "code",
   "execution_count": 14,
   "metadata": {},
   "outputs": [],
   "source": [
    "# Scan for all chromecasts in the network\n",
    "def scan_for_ccs():\n",
    "    ccs = pychromecast.get_chromecasts()\n",
    "    return ccs"
   ]
  },
  {
   "cell_type": "code",
   "execution_count": 18,
   "metadata": {},
   "outputs": [
    {
     "name": "stdout",
     "output_type": "stream",
     "text": [
      "CastStatus(is_active_input=False, is_stand_by=False, volume_level=0.10000000149011612, volume_muted=False, app_id=None, display_name=None, namespaces=[], session_id=None, transport_id=None, status_text='', icon_url=None)\n"
     ]
    }
   ],
   "source": [
    "# Get my tv\n",
    "mycc = None\n",
    "\n",
    "# If my tv hasn't been discovered, keep trying\n",
    "while mycc is None:\n",
    "    ccs = scan_for_ccs()\n",
    "    for cc in ccs:\n",
    "        if cc.device.friendly_name == 'iTato':\n",
    "            mycc = cc\n",
    "            mycc.wait()\n",
    "            \n",
    "print(mycc.status)"
   ]
  },
  {
   "cell_type": "code",
   "execution_count": 20,
   "metadata": {},
   "outputs": [],
   "source": [
    "yt = YouTubeController()\n",
    "mycc.register_handler(yt)"
   ]
  },
  {
   "cell_type": "code",
   "execution_count": 25,
   "metadata": {},
   "outputs": [],
   "source": [
    "videos_to_play = [\n",
    "    {'name': 'Power', 'artist': 'Kanye West', 'id': 'L53gjP-TtGE'},\n",
    "    {'name': 'Wally Wilder', 'artist': 'Delicate Steve', 'id': 'MJ7chrLEZm4'}\n",
    "]\n",
    "\n",
    "video = random.choice(videos_to_play)\n",
    "mycc.set_volume(0.4)\n",
    "\n",
    "yt.play_video(video['id'])\n",
    "time.sleep(1 * 30) # Wait one minute\n",
    "mycc.quit_app()"
   ]
  },
  {
   "cell_type": "code",
   "execution_count": null,
   "metadata": {},
   "outputs": [],
   "source": []
  }
 ],
 "metadata": {
  "kernelspec": {
   "display_name": "wakerupper",
   "language": "python",
   "name": "wakerupper"
  },
  "language_info": {
   "codemirror_mode": {
    "name": "ipython",
    "version": 3
   },
   "file_extension": ".py",
   "mimetype": "text/x-python",
   "name": "python",
   "nbconvert_exporter": "python",
   "pygments_lexer": "ipython3",
   "version": "3.8.2"
  }
 },
 "nbformat": 4,
 "nbformat_minor": 4
}
